{
 "cells": [
  {
   "cell_type": "code",
   "execution_count": 1,
   "id": "ff78e584-4ff2-49da-b16d-5a1bc9182992",
   "metadata": {},
   "outputs": [],
   "source": [
    "# installed pandas, matplotlib , numpy , scikit-learn"
   ]
  },
  {
   "cell_type": "code",
   "execution_count": 21,
   "id": "48f70ef7-0a6d-4d58-88a8-2020f3adc1e4",
   "metadata": {},
   "outputs": [],
   "source": [
    "import matplotlib.pyplot as plt\n",
    "import pandas as pd\n",
    "import numpy as np\n",
    "import pylab as pl\n",
    "%matplotlib inline"
   ]
  },
  {
   "cell_type": "markdown",
   "id": "e5901bd6-d8be-4fc3-a7a1-22c85f4c337e",
   "metadata": {},
   "source": [
    "Reading the dataset from exams.csv file"
   ]
  },
  {
   "cell_type": "code",
   "execution_count": 38,
   "id": "f15ebbe5-fb26-4132-b8b5-467c7fe1b410",
   "metadata": {},
   "outputs": [
    {
     "data": {
      "text/html": [
       "<div>\n",
       "<style scoped>\n",
       "    .dataframe tbody tr th:only-of-type {\n",
       "        vertical-align: middle;\n",
       "    }\n",
       "\n",
       "    .dataframe tbody tr th {\n",
       "        vertical-align: top;\n",
       "    }\n",
       "\n",
       "    .dataframe thead th {\n",
       "        text-align: right;\n",
       "    }\n",
       "</style>\n",
       "<table border=\"1\" class=\"dataframe\">\n",
       "  <thead>\n",
       "    <tr style=\"text-align: right;\">\n",
       "      <th></th>\n",
       "      <th>gender</th>\n",
       "      <th>race/ethnicity</th>\n",
       "      <th>parental level of education</th>\n",
       "      <th>lunch</th>\n",
       "      <th>test preparation course</th>\n",
       "      <th>mathscore</th>\n",
       "      <th>readingscore</th>\n",
       "      <th>writingscore</th>\n",
       "    </tr>\n",
       "  </thead>\n",
       "  <tbody>\n",
       "    <tr>\n",
       "      <th>0</th>\n",
       "      <td>male</td>\n",
       "      <td>group B</td>\n",
       "      <td>bachelor's degree</td>\n",
       "      <td>standard</td>\n",
       "      <td>none</td>\n",
       "      <td>76</td>\n",
       "      <td>78</td>\n",
       "      <td>77</td>\n",
       "    </tr>\n",
       "    <tr>\n",
       "      <th>1</th>\n",
       "      <td>female</td>\n",
       "      <td>group E</td>\n",
       "      <td>associate's degree</td>\n",
       "      <td>free/reduced</td>\n",
       "      <td>none</td>\n",
       "      <td>86</td>\n",
       "      <td>95</td>\n",
       "      <td>93</td>\n",
       "    </tr>\n",
       "    <tr>\n",
       "      <th>2</th>\n",
       "      <td>male</td>\n",
       "      <td>group E</td>\n",
       "      <td>some high school</td>\n",
       "      <td>standard</td>\n",
       "      <td>none</td>\n",
       "      <td>67</td>\n",
       "      <td>51</td>\n",
       "      <td>49</td>\n",
       "    </tr>\n",
       "    <tr>\n",
       "      <th>3</th>\n",
       "      <td>female</td>\n",
       "      <td>group E</td>\n",
       "      <td>associate's degree</td>\n",
       "      <td>standard</td>\n",
       "      <td>none</td>\n",
       "      <td>72</td>\n",
       "      <td>80</td>\n",
       "      <td>74</td>\n",
       "    </tr>\n",
       "    <tr>\n",
       "      <th>4</th>\n",
       "      <td>female</td>\n",
       "      <td>group A</td>\n",
       "      <td>some high school</td>\n",
       "      <td>standard</td>\n",
       "      <td>none</td>\n",
       "      <td>54</td>\n",
       "      <td>67</td>\n",
       "      <td>61</td>\n",
       "    </tr>\n",
       "    <tr>\n",
       "      <th>5</th>\n",
       "      <td>male</td>\n",
       "      <td>group C</td>\n",
       "      <td>bachelor's degree</td>\n",
       "      <td>standard</td>\n",
       "      <td>none</td>\n",
       "      <td>78</td>\n",
       "      <td>77</td>\n",
       "      <td>72</td>\n",
       "    </tr>\n",
       "    <tr>\n",
       "      <th>6</th>\n",
       "      <td>female</td>\n",
       "      <td>group D</td>\n",
       "      <td>bachelor's degree</td>\n",
       "      <td>standard</td>\n",
       "      <td>none</td>\n",
       "      <td>62</td>\n",
       "      <td>78</td>\n",
       "      <td>81</td>\n",
       "    </tr>\n",
       "    <tr>\n",
       "      <th>7</th>\n",
       "      <td>male</td>\n",
       "      <td>group D</td>\n",
       "      <td>master's degree</td>\n",
       "      <td>free/reduced</td>\n",
       "      <td>completed</td>\n",
       "      <td>69</td>\n",
       "      <td>71</td>\n",
       "      <td>74</td>\n",
       "    </tr>\n",
       "    <tr>\n",
       "      <th>8</th>\n",
       "      <td>male</td>\n",
       "      <td>group B</td>\n",
       "      <td>some high school</td>\n",
       "      <td>free/reduced</td>\n",
       "      <td>none</td>\n",
       "      <td>60</td>\n",
       "      <td>55</td>\n",
       "      <td>53</td>\n",
       "    </tr>\n",
       "    <tr>\n",
       "      <th>9</th>\n",
       "      <td>male</td>\n",
       "      <td>group C</td>\n",
       "      <td>some college</td>\n",
       "      <td>standard</td>\n",
       "      <td>completed</td>\n",
       "      <td>71</td>\n",
       "      <td>74</td>\n",
       "      <td>73</td>\n",
       "    </tr>\n",
       "  </tbody>\n",
       "</table>\n",
       "</div>"
      ],
      "text/plain": [
       "   gender race/ethnicity parental level of education         lunch  \\\n",
       "0    male        group B           bachelor's degree      standard   \n",
       "1  female        group E          associate's degree  free/reduced   \n",
       "2    male        group E            some high school      standard   \n",
       "3  female        group E          associate's degree      standard   \n",
       "4  female        group A            some high school      standard   \n",
       "5    male        group C           bachelor's degree      standard   \n",
       "6  female        group D           bachelor's degree      standard   \n",
       "7    male        group D             master's degree  free/reduced   \n",
       "8    male        group B            some high school  free/reduced   \n",
       "9    male        group C                some college      standard   \n",
       "\n",
       "  test preparation course  mathscore  readingscore  writingscore  \n",
       "0                    none         76            78            77  \n",
       "1                    none         86            95            93  \n",
       "2                    none         67            51            49  \n",
       "3                    none         72            80            74  \n",
       "4                    none         54            67            61  \n",
       "5                    none         78            77            72  \n",
       "6                    none         62            78            81  \n",
       "7               completed         69            71            74  \n",
       "8                    none         60            55            53  \n",
       "9               completed         71            74            73  "
      ]
     },
     "execution_count": 38,
     "metadata": {},
     "output_type": "execute_result"
    }
   ],
   "source": [
    "mainFile = pd.read_csv(\"exams.csv\")\n",
    "mainFile.head(10)"
   ]
  },
  {
   "cell_type": "markdown",
   "id": "ebcbf17a-bae6-4e1d-b544-bb4ad9af171c",
   "metadata": {},
   "source": [
    "Exploration of Data --> Creating and ploting Graphs"
   ]
  },
  {
   "cell_type": "code",
   "execution_count": 37,
   "id": "02bff5ab-ea87-4dc0-8a5b-478e9484bd82",
   "metadata": {},
   "outputs": [
    {
     "data": {
      "text/html": [
       "<div>\n",
       "<style scoped>\n",
       "    .dataframe tbody tr th:only-of-type {\n",
       "        vertical-align: middle;\n",
       "    }\n",
       "\n",
       "    .dataframe tbody tr th {\n",
       "        vertical-align: top;\n",
       "    }\n",
       "\n",
       "    .dataframe thead th {\n",
       "        text-align: right;\n",
       "    }\n",
       "</style>\n",
       "<table border=\"1\" class=\"dataframe\">\n",
       "  <thead>\n",
       "    <tr style=\"text-align: right;\">\n",
       "      <th></th>\n",
       "      <th>mathscore</th>\n",
       "      <th>readingscore</th>\n",
       "      <th>writingscore</th>\n",
       "    </tr>\n",
       "  </thead>\n",
       "  <tbody>\n",
       "    <tr>\n",
       "      <th>0</th>\n",
       "      <td>76</td>\n",
       "      <td>78</td>\n",
       "      <td>77</td>\n",
       "    </tr>\n",
       "    <tr>\n",
       "      <th>1</th>\n",
       "      <td>86</td>\n",
       "      <td>95</td>\n",
       "      <td>93</td>\n",
       "    </tr>\n",
       "    <tr>\n",
       "      <th>2</th>\n",
       "      <td>67</td>\n",
       "      <td>51</td>\n",
       "      <td>49</td>\n",
       "    </tr>\n",
       "    <tr>\n",
       "      <th>3</th>\n",
       "      <td>72</td>\n",
       "      <td>80</td>\n",
       "      <td>74</td>\n",
       "    </tr>\n",
       "    <tr>\n",
       "      <th>4</th>\n",
       "      <td>54</td>\n",
       "      <td>67</td>\n",
       "      <td>61</td>\n",
       "    </tr>\n",
       "    <tr>\n",
       "      <th>5</th>\n",
       "      <td>78</td>\n",
       "      <td>77</td>\n",
       "      <td>72</td>\n",
       "    </tr>\n",
       "    <tr>\n",
       "      <th>6</th>\n",
       "      <td>62</td>\n",
       "      <td>78</td>\n",
       "      <td>81</td>\n",
       "    </tr>\n",
       "    <tr>\n",
       "      <th>7</th>\n",
       "      <td>69</td>\n",
       "      <td>71</td>\n",
       "      <td>74</td>\n",
       "    </tr>\n",
       "    <tr>\n",
       "      <th>8</th>\n",
       "      <td>60</td>\n",
       "      <td>55</td>\n",
       "      <td>53</td>\n",
       "    </tr>\n",
       "    <tr>\n",
       "      <th>9</th>\n",
       "      <td>71</td>\n",
       "      <td>74</td>\n",
       "      <td>73</td>\n",
       "    </tr>\n",
       "  </tbody>\n",
       "</table>\n",
       "</div>"
      ],
      "text/plain": [
       "   mathscore  readingscore  writingscore\n",
       "0         76            78            77\n",
       "1         86            95            93\n",
       "2         67            51            49\n",
       "3         72            80            74\n",
       "4         54            67            61\n",
       "5         78            77            72\n",
       "6         62            78            81\n",
       "7         69            71            74\n",
       "8         60            55            53\n",
       "9         71            74            73"
      ]
     },
     "execution_count": 37,
     "metadata": {},
     "output_type": "execute_result"
    }
   ],
   "source": [
    "sampleFile = mainFile[['mathscore','readingscore','writingscore']]\n",
    "sampleFile.head(10)"
   ]
  },
  {
   "cell_type": "markdown",
   "id": "4ff46f6d-146b-418a-be04-5992d8afdedc",
   "metadata": {},
   "source": [
    "Creating a Bargraph of the following sampleFile data set"
   ]
  },
  {
   "cell_type": "code",
   "execution_count": 24,
   "id": "bea37e4b-2902-4ec9-bb4a-3fef66577c1e",
   "metadata": {},
   "outputs": [
    {
     "data": {
      "image/png": "[encoded data removed]",
      "text/plain": [
       "<Figure size 432x288 with 4 Axes>"
      ]
     },
     "metadata": {
      "needs_background": "light"
     },
     "output_type": "display_data"
    }
   ],
   "source": [
    "barGraphFile = sampleFile\n",
    "barGraphFile.hist()\n",
    "plt.show()"
   ]
  },
  {
   "cell_type": "markdown",
   "id": "5b3314cf-57df-4cd4-8b17-9a3c818ee23f",
   "metadata": {},
   "source": [
    "Creating a X-Y plane ploting of the features taking two at a time\n",
    "\n",
    "First creating of Readingscore and Mathscore"
   ]
  },
  {
   "cell_type": "code",
   "execution_count": 25,
   "id": "4608cc36-d5de-4e88-a908-80d4e8dd0755",
   "metadata": {},
   "outputs": [
    {
     "data": {
      "image/png": "[encoded data removed]",
      "text/plain": [
       "<Figure size 432x288 with 1 Axes>"
      ]
     },
     "metadata": {
      "needs_background": "light"
     },
     "output_type": "display_data"
    }
   ],
   "source": [
    "plt.scatter(sampleFile.readingscore,sampleFile.mathscore,color='blue')\n",
    "plt.xlabel('Reading Score')\n",
    "plt.ylabel('Math Score')\n",
    "plt.show()"
   ]
  },
  {
   "cell_type": "markdown",
   "id": "c0ef680b-09b5-4f4a-a3f2-2af7a45282c7",
   "metadata": {},
   "source": [
    "Creating for Writingscore and Mathscore"
   ]
  },
  {
   "cell_type": "code",
   "execution_count": 27,
   "id": "db3702b8-3e5f-4a7c-9b05-e1e7372f17e4",
   "metadata": {},
   "outputs": [
    {
     "data": {
      "image/png": "[encoded data removed]",
      "text/plain": [
       "<Figure size 432x288 with 1 Axes>"
      ]
     },
     "metadata": {
      "needs_background": "light"
     },
     "output_type": "display_data"
    }
   ],
   "source": [
    "plt.scatter(sampleFile.writingscore,sampleFile.mathscore,color='red')\n",
    "plt.xlabel('Writing Score')\n",
    "plt.ylabel('Math Score')\n",
    "plt.show()"
   ]
  },
  {
   "cell_type": "markdown",
   "id": "94818553-a18b-4084-a60f-c83640b86b34",
   "metadata": {},
   "source": [
    "Dividing the data into train and test part. for this we create a mask"
   ]
  },
  {
   "cell_type": "code",
   "execution_count": 29,
   "id": "a2f626f8-88e3-4c2b-ba24-21eef806ddd3",
   "metadata": {},
   "outputs": [],
   "source": [
    "msk = np.random.rand(len(mainFile)) < 0.8\n",
    "train = sampleFile[msk]\n",
    "test = sampleFile[~msk]"
   ]
  },
  {
   "cell_type": "markdown",
   "id": "7d110397-b25e-48ed-9edb-3ce04706db93",
   "metadata": {},
   "source": [
    "SIMPLE REGRESSSION MODLE"
   ]
  },
  {
   "cell_type": "markdown",
   "id": "3f4a5ec2-6bc3-414e-95ab-89c33596217c",
   "metadata": {},
   "source": [
    "Train data distribution"
   ]
  },
  {
   "cell_type": "code",
   "execution_count": 34,
   "id": "514594ab-246e-4623-a96d-27ca8a45eb71",
   "metadata": {},
   "outputs": [
    {
     "data": {
      "image/png": "[encoded data removed]",
      "text/plain": [
       "<Figure size 432x288 with 1 Axes>"
      ]
     },
     "metadata": {
      "needs_background": "light"
     },
     "output_type": "display_data"
    }
   ],
   "source": [
    "plt.scatter(train.readingscore,train.mathscore,color='green')\n",
    "plt.xlabel('Reading Score')\n",
    "plt.ylabel('Math Score')\n",
    "plt.show()"
   ]
  },
  {
   "cell_type": "code",
   "execution_count": 36,
   "id": "bddb81d1-f51a-4f46-a5ef-24097067446d",
   "metadata": {},
   "outputs": [
    {
     "data": {
      "image/png": "[encoded data removed]",
      "text/plain": [
       "<Figure size 432x288 with 1 Axes>"
      ]
     },
     "metadata": {
      "needs_background": "light"
     },
     "output_type": "display_data"
    }
   ],
   "source": [
    "plt.scatter(train.writingscore,train.mathscore,color='purple')\n",
    "plt.xlabel('Writing Score')\n",
    "plt.ylabel('Math Score')\n",
    "plt.show()"
   ]
  },
  {
   "cell_type": "markdown",
   "id": "f247442f-dc74-4741-b20f-4dbd716a89d7",
   "metadata": {},
   "source": [
    "Modeling By using sklearn library"
   ]
  },
  {
   "cell_type": "code",
   "execution_count": 44,
   "id": "721ac29f-c5df-45ff-bc83-243ad10a5523",
   "metadata": {},
   "outputs": [],
   "source": [
    "from sklearn import linear_model\n",
    "regr = linear_model.LinearRegression()"
   ]
  },
  {
   "cell_type": "markdown",
   "id": "d8fc6b15-f727-4261-9f9f-cad37788a98b",
   "metadata": {},
   "source": [
    "now we put the training data part of reading and math score as an array into two variables using numpy and then put in regression"
   ]
  },
  {
   "cell_type": "code",
   "execution_count": 51,
   "id": "b2fbdaf0-7cc6-4a74-9294-eda8b644c6d5",
   "metadata": {},
   "outputs": [
    {
     "data": {
      "text/plain": [
       "LinearRegression()"
      ]
     },
     "execution_count": 51,
     "metadata": {},
     "output_type": "execute_result"
    }
   ],
   "source": [
    "train_X = np.asanyarray(train[['readingscore']])\n",
    "train_Y = np.asanyarray(train[['mathscore']])\n",
    "regr.fit(train_X,train_Y)"
   ]
  },
  {
   "cell_type": "markdown",
   "id": "cba73df2-c2e5-48b1-ae0e-3081325eb7d8",
   "metadata": {},
   "source": [
    "printing the coefficients"
   ]
  },
  {
   "cell_type": "code",
   "execution_count": 57,
   "id": "2756ded8-8918-46b8-abe6-411d626ad98f",
   "metadata": {},
   "outputs": [
    {
     "name": "stdout",
     "output_type": "stream",
     "text": [
      "Coefficient=  [[0.86994881]]\n",
      "Intercept=  [4.87024191]\n"
     ]
    }
   ],
   "source": [
    "print('Coefficient= ',regr.coef_)\n",
    "print('Intercept= ',regr.intercept_)"
   ]
  },
  {
   "cell_type": "markdown",
   "id": "9f4af832-fea2-418e-b295-2a60d2e7b6f8",
   "metadata": {},
   "source": [
    "Ploting the line of regression on the training data set graph of reading and math score"
   ]
  },
  {
   "cell_type": "code",
   "execution_count": 61,
   "id": "f50f0013-ab86-4d7a-b50a-5b679cc4216e",
   "metadata": {},
   "outputs": [
    {
     "data": {
      "image/png": "[encoded data removed]",
      "text/plain": [
       "<Figure size 432x288 with 1 Axes>"
      ]
     },
     "metadata": {
      "needs_background": "light"
     },
     "output_type": "display_data"
    }
   ],
   "source": [
    "plt.scatter(train.readingscore,train.mathscore,color='green')\n",
    "plt.plot(train_X,regr.coef_*train_X+regr.intercept_,'-r')\n",
    "plt.xlabel('Reading Score')\n",
    "plt.ylabel('Math Score')\n",
    "plt.show()"
   ]
  },
  {
   "cell_type": "markdown",
   "id": "77c5a85f-4b0d-4046-ae1b-c9d70abd9b1b",
   "metadata": {},
   "source": [
    "Plotting line of regression for writing and math score training data set"
   ]
  },
  {
   "cell_type": "code",
   "execution_count": 64,
   "id": "55b650a1-84dd-44c2-a223-a1295872b614",
   "metadata": {},
   "outputs": [
    {
     "data": {
      "text/plain": [
       "LinearRegression()"
      ]
     },
     "execution_count": 64,
     "metadata": {},
     "output_type": "execute_result"
    }
   ],
   "source": [
    "train_Z = np.asanyarray(train[['writingscore']])\n",
    "regr.fit(train_Z,train_Y)"
   ]
  },
  {
   "cell_type": "code",
   "execution_count": 67,
   "id": "06df062d-3e58-46ff-8cf2-efb21daec5f6",
   "metadata": {},
   "outputs": [
    {
     "data": {
      "image/png": "[encoded data removed]",
      "text/plain": [
       "<Figure size 432x288 with 1 Axes>"
      ]
     },
     "metadata": {
      "needs_background": "light"
     },
     "output_type": "display_data"
    }
   ],
   "source": [
    "plt.scatter(train.writingscore,train.mathscore,color='purple')\n",
    "plt.plot(train_Z,regr.coef_*train_Z+regr.intercept_,'-r')\n",
    "plt.xlabel('Writing Score')\n",
    "plt.ylabel('Math Score')\n",
    "plt.show()"
   ]
  },
  {
   "cell_type": "markdown",
   "id": "c17f81c9-8833-4380-bac8-78d9bc73503c",
   "metadata": {},
   "source": [
    "Evaluating the accuracy of the regression"
   ]
  },
  {
   "cell_type": "code",
   "execution_count": 68,
   "id": "8813968e-9782-4b7e-b4a9-743143013cd2",
   "metadata": {},
   "outputs": [
    {
     "name": "stdout",
     "output_type": "stream",
     "text": [
      "Mean absolute error: 6.76\n",
      "Residual sum of squares (MSE): 68.84\n",
      "R2-score: 0.66\n"
     ]
    }
   ],
   "source": [
    "from sklearn.metrics import r2_score\n",
    "\n",
    "test_x = np.asanyarray(test[['readingscore']])\n",
    "test_y = np.asanyarray(test[['mathscore']])\n",
    "test_y_ = regr.predict(test_x)\n",
    "\n",
    "print(\"Mean absolute error: %.2f\" % np.mean(np.absolute(test_y_ - test_y)))\n",
    "print(\"Residual sum of squares (MSE): %.2f\" % np.mean((test_y_ - test_y) ** 2))\n",
    "print(\"R2-score: %.2f\" % r2_score(test_y , test_y_) )"
   ]
  },
  {
   "cell_type": "code",
   "execution_count": 69,
   "id": "1262238f-ad8e-4dc2-9f42-4752c2b72388",
   "metadata": {},
   "outputs": [
    {
     "name": "stdout",
     "output_type": "stream",
     "text": [
      "Mean absolute error: 6.85\n",
      "Residual sum of squares (MSE): 77.30\n",
      "R2-score: 0.62\n"
     ]
    }
   ],
   "source": [
    "from sklearn.metrics import r2_score\n",
    "\n",
    "test_x = np.asanyarray(test[['writingscore']])\n",
    "test_y = np.asanyarray(test[['mathscore']])\n",
    "test_y_ = regr.predict(test_x)\n",
    "\n",
    "print(\"Mean absolute error: %.2f\" % np.mean(np.absolute(test_y_ - test_y)))\n",
    "print(\"Residual sum of squares (MSE): %.2f\" % np.mean((test_y_ - test_y) ** 2))\n",
    "print(\"R2-score: %.2f\" % r2_score(test_y , test_y_) )"
   ]
  },
  {
   "cell_type": "code",
   "execution_count": null,
   "id": "901c4070-14ea-4b3f-b4ad-004e802530bd",
   "metadata": {},
   "outputs": [],
   "source": []
  }
 ],
 "metadata": {
  "kernelspec": {
   "display_name": "Python 3",
   "language": "python",
   "name": "python3"
  },
  "language_info": {
   "codemirror_mode": {
    "name": "ipython",
    "version": 3
   },
   "file_extension": ".py",
   "mimetype": "text/x-python",
   "name": "python",
   "nbconvert_exporter": "python",
   "pygments_lexer": "ipython3",
   "version": "3.8.8"
  }
 },
 "nbformat": 4,
 "nbformat_minor": 5
}
